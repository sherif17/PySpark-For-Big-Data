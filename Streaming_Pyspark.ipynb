{
  "cells": [
    {
      "cell_type": "markdown",
      "metadata": {
        "id": "view-in-github",
        "colab_type": "text"
      },
      "source": [
        "<a href=\"https://colab.research.google.com/github/sherif17/PySpark-For-Big-Data/blob/main/Streaming_Pyspark.ipynb\" target=\"_parent\"><img src=\"https://colab.research.google.com/assets/colab-badge.svg\" alt=\"Open In Colab\"/></a>"
      ]
    },
    {
      "cell_type": "code",
      "execution_count": null,
      "id": "60f97978",
      "metadata": {
        "id": "60f97978",
        "colab": {
          "base_uri": "https://localhost:8080/",
          "height": 196
        },
        "outputId": "aded73de-6b99-4216-f488-490f601f16e3"
      },
      "outputs": [
        {
          "output_type": "execute_result",
          "data": {
            "text/plain": [
              "<SparkContext master=local[*] appName=pyspark-shell>"
            ],
            "text/html": [
              "\n",
              "        <div>\n",
              "            <p><b>SparkContext</b></p>\n",
              "\n",
              "            <p><a href=\"http://2bc4cd3f9d5b:4040\">Spark UI</a></p>\n",
              "\n",
              "            <dl>\n",
              "              <dt>Version</dt>\n",
              "                <dd><code>v3.1.1</code></dd>\n",
              "              <dt>Master</dt>\n",
              "                <dd><code>local[*]</code></dd>\n",
              "              <dt>AppName</dt>\n",
              "                <dd><code>pyspark-shell</code></dd>\n",
              "            </dl>\n",
              "        </div>\n",
              "        "
            ]
          },
          "metadata": {},
          "execution_count": 1
        }
      ],
      "source": [
        "!apt-get install openjdk-8-jdk-headless -qq > /dev/null\n",
        "!wget -q http://archive.apache.org/dist/spark/spark-3.1.1/spark-3.1.1-bin-hadoop3.2.tgz\n",
        "!tar xf spark-3.1.1-bin-hadoop3.2.tgz\n",
        "!pip install -q findspark\n",
        "\n",
        "import os\n",
        "os.environ[\"JAVA_HOME\"] = \"/usr/lib/jvm/java-8-openjdk-amd64\"\n",
        "os.environ[\"SPARK_HOME\"] = \"/content/spark-3.1.1-bin-hadoop3.2\"\n",
        "import findspark\n",
        "findspark.init()\n",
        "from pyspark.sql import SparkSession\n",
        "spark = SparkSession.builder.master(\"local[*]\").getOrCreate()\n",
        "spark.conf.set(\"spark.sql.repl.eagerEval.enabled\", True) # Property used to format output tables better\n",
        "spark\n",
        "sc = spark.sparkContext\n",
        "sc"
      ]
    },
    {
      "cell_type": "code",
      "execution_count": null,
      "id": "201cee8c",
      "metadata": {
        "id": "201cee8c",
        "outputId": "4e73ce7b-a3ec-4b21-9ca2-74a33f7c8276",
        "colab": {
          "base_uri": "https://localhost:8080/",
          "height": 17
        }
      },
      "outputs": [
        {
          "output_type": "display_data",
          "data": {
            "text/plain": [
              "<IPython.core.display.HTML object>"
            ],
            "text/html": [
              "<style>pre { white-space: pre !important; }</style>"
            ]
          },
          "metadata": {}
        }
      ],
      "source": [
        "from IPython.display import display, HTML\n",
        "display(HTML(\"<style>pre { white-space: pre !important; }</style>\"))"
      ]
    },
    {
      "cell_type": "markdown",
      "id": "efac8040",
      "metadata": {
        "id": "efac8040"
      },
      "source": [
        "### Create the schema of the streamed files (check the column names and types from the CSV files)"
      ]
    },
    {
      "cell_type": "code",
      "source": [
        "!unzip -u \"/content/InputStream.zip\""
      ],
      "metadata": {
        "colab": {
          "base_uri": "https://localhost:8080/"
        },
        "id": "O9xMJ5saSShA",
        "outputId": "d1bcde74-6e36-498e-e19a-0cb9108064ae"
      },
      "id": "O9xMJ5saSShA",
      "execution_count": null,
      "outputs": [
        {
          "output_type": "stream",
          "name": "stdout",
          "text": [
            "Archive:  /content/InputStream.zip\n",
            "  inflating: InputStream/KOSPI_STOCK_0.csv  \n",
            "  inflating: InputStream/KOSPI_STOCK_1.csv  \n",
            "  inflating: InputStream/KOSPI_STOCK_2.csv  \n",
            "  inflating: InputStream/KOSPI_STOCK_3.csv  \n"
          ]
        }
      ]
    },
    {
      "cell_type": "code",
      "execution_count": null,
      "id": "c4674d5d",
      "metadata": {
        "id": "c4674d5d"
      },
      "outputs": [],
      "source": [
        "from pyspark.sql.types import StructType, StructField, StringType, DoubleType,IntegerType,DateType\n",
        "\n",
        "my_schema = StructType([\n",
        "    StructField('ID',  IntegerType(), True),\n",
        "    StructField('Date',DateType(), True),\n",
        "    StructField('Open', DoubleType(), True),\n",
        "    StructField('High', DoubleType(), True),\n",
        "    StructField('Low', DoubleType(), True),\n",
        "    StructField('Close', DoubleType(), True),\n",
        "    StructField('dj Close', DoubleType(), True),\n",
        "    StructField('Volume', IntegerType(), True)\n",
        "\n",
        "])"
      ]
    },
    {
      "cell_type": "markdown",
      "id": "4f50fbeb",
      "metadata": {
        "id": "4f50fbeb"
      },
      "source": [
        "### Create the dataframe by reading the stream using format \"csv\" and the schema you created."
      ]
    },
    {
      "cell_type": "code",
      "source": [
        "from pyspark.sql import SparkSession\n",
        "\n",
        "spark = SparkSession.builder.appName(\"ReadCSV\").getOrCreate()\n",
        "\n",
        "df = spark.readStream.format('csv').option(\"header\", \"true\").option(\"inferSchema\", \"true\").load('/content/InputStream/*.csv',schema=my_schema)\n"
      ],
      "metadata": {
        "id": "0zuRHGxyUkxc"
      },
      "id": "0zuRHGxyUkxc",
      "execution_count": null,
      "outputs": []
    },
    {
      "cell_type": "markdown",
      "id": "ce1e0e44",
      "metadata": {
        "id": "ce1e0e44"
      },
      "source": [
        "### Make sure the sataframe is streaming the files from the folder"
      ]
    },
    {
      "cell_type": "code",
      "execution_count": null,
      "id": "0fc0fa13",
      "metadata": {
        "id": "0fc0fa13",
        "outputId": "d67239dc-fba0-4c1d-93cc-3a720131f054",
        "colab": {
          "base_uri": "https://localhost:8080/"
        }
      },
      "outputs": [
        {
          "output_type": "stream",
          "name": "stdout",
          "text": [
            "root\n",
            " |-- ID: integer (nullable = true)\n",
            " |-- Date: date (nullable = true)\n",
            " |-- Open: double (nullable = true)\n",
            " |-- High: double (nullable = true)\n",
            " |-- Low: double (nullable = true)\n",
            " |-- Close: double (nullable = true)\n",
            " |-- dj Close: double (nullable = true)\n",
            " |-- Volume: integer (nullable = true)\n",
            "\n"
          ]
        }
      ],
      "source": [
        "df.printSchema()"
      ]
    },
    {
      "cell_type": "markdown",
      "id": "ac9d68de",
      "metadata": {
        "id": "ac9d68de"
      },
      "source": [
        "### Create a stream writer into memory and specify the query name \"stock:"
      ]
    },
    {
      "cell_type": "code",
      "execution_count": null,
      "id": "f40bf944",
      "metadata": {
        "id": "f40bf944"
      },
      "outputs": [],
      "source": [
        "writer = df.writeStream.outputMode(\"append\") \\\n",
        "  .format(\"memory\") \\\n",
        "  .option(\"queryName\", \"stock\") \\\n",
        "  .option(\"truncate\", False) \\\n",
        "  .option(\"numRows\", 100) "
      ]
    },
    {
      "cell_type": "markdown",
      "id": "63a5f9a4",
      "metadata": {
        "id": "63a5f9a4"
      },
      "source": [
        "### Start the write stream and make sure it works (read all columns from the table)"
      ]
    },
    {
      "cell_type": "code",
      "execution_count": null,
      "id": "0d98c6dc",
      "metadata": {
        "id": "0d98c6dc"
      },
      "outputs": [],
      "source": [
        "stock = writer.start() "
      ]
    },
    {
      "cell_type": "code",
      "source": [
        "# query.stop()"
      ],
      "metadata": {
        "id": "dEvnBeq8bazr"
      },
      "id": "dEvnBeq8bazr",
      "execution_count": null,
      "outputs": []
    },
    {
      "cell_type": "code",
      "source": [
        "stock.status['isDataAvailable']"
      ],
      "metadata": {
        "colab": {
          "base_uri": "https://localhost:8080/"
        },
        "id": "YHXLY2_zWaoS",
        "outputId": "cdaf8744-5149-4158-c4cb-12b558c5d747"
      },
      "id": "YHXLY2_zWaoS",
      "execution_count": null,
      "outputs": [
        {
          "output_type": "execute_result",
          "data": {
            "text/plain": [
              "False"
            ]
          },
          "metadata": {},
          "execution_count": 28
        }
      ]
    },
    {
      "cell_type": "code",
      "execution_count": null,
      "id": "27bebb21",
      "metadata": {
        "id": "27bebb21",
        "outputId": "1ef7b3ff-8e8d-4fb6-9f93-348e99afb737",
        "colab": {
          "base_uri": "https://localhost:8080/"
        }
      },
      "outputs": [
        {
          "output_type": "stream",
          "name": "stdout",
          "text": [
            "+---+----+----+----+---+-----+--------+------+\n",
            "| ID|Date|Open|High|Low|Close|dj Close|Volume|\n",
            "+---+----+----+----+---+-----+--------+------+\n",
            "+---+----+----+----+---+-----+--------+------+\n",
            "only showing top 0 rows\n",
            "\n"
          ]
        }
      ],
      "source": [
        "df2 = spark.sql(\"SELECT * FROM stock\")\n",
        "df2.show(0)"
      ]
    },
    {
      "cell_type": "code",
      "execution_count": null,
      "id": "769e6e1e",
      "metadata": {
        "scrolled": true,
        "id": "769e6e1e",
        "outputId": "74076053-d8d4-43e4-ba9f-8b54c37e1746",
        "colab": {
          "base_uri": "https://localhost:8080/"
        }
      },
      "outputs": [
        {
          "output_type": "stream",
          "name": "stdout",
          "text": [
            "+---+----------+------------+------------+------------+------------+------------+------+\n",
            "| ID|      Date|        Open|        High|         Low|       Close|    dj Close|Volume|\n",
            "+---+----------+------------+------------+------------+------------+------------+------+\n",
            "|120|2000-06-20|22817.900391|23102.199219|21680.599609|22320.300781|21092.632813| 34466|\n",
            "|121|2000-06-21|21893.800781|22675.699219|21680.599609|22675.699219|21428.484375| 68651|\n",
            "|122|2000-06-22|23386.599609|23386.599609|     22462.5|23031.099609|21764.335938| 97209|\n",
            "|123|2000-06-23|22107.099609|24097.400391|22107.099609|     22889.0|21630.052734|199483|\n",
            "|124|2000-06-26|23102.199219|     24168.5|22569.099609|24026.300781|22704.796875|121969|\n",
            "|125|2000-06-27|24026.300781|25519.099609|     23742.0|24026.300781|22704.796875|113809|\n",
            "|126|2000-06-28|23884.199219|24666.099609|23884.199219|24666.099609|23309.408203| 86236|\n",
            "|127|2000-06-29|25234.699219|25234.699219|23919.699219|24239.599609|22906.365234| 45299|\n",
            "|128|2000-06-30|24523.900391|25092.599609|     23742.0|24879.300781|23510.880859| 76670|\n",
            "|129|2000-07-03|24239.599609|25590.199219|24239.599609|25092.599609|23712.449219| 63306|\n",
            "|130|2000-07-04|25767.900391|26087.699219|25234.699219|     25448.0|24048.302734| 45299|\n",
            "|131|2000-07-05|     25448.0|25590.199219|24523.900391|     25448.0|24048.302734| 48816|\n",
            "|132|2000-07-06|25519.099609|27367.300781|25128.099609|26585.300781|25123.048828|178662|\n",
            "|133|2000-07-07|27011.800781|     27154.0|     26301.0|27011.800781|25526.091797|104103|\n",
            "|134|2000-07-10|27722.699219|27722.699219|26443.199219|27011.800781|25526.091797|101570|\n",
            "|135|2000-07-11|27011.800781|27011.800781|26372.099609|26514.199219|25055.859375| 73716|\n",
            "|136|2000-07-12|26514.199219|27935.900391|26087.699219|26869.699219|25391.804688|139976|\n",
            "|137|2000-07-13|26869.699219|26940.800781|     26301.0|26407.599609|24955.119141| 64994|\n",
            "|138|2000-07-14|25945.599609|26407.599609|25341.400391|25803.400391|24384.154297| 75404|\n",
            "|139|2000-07-17|25803.400391|25803.400391|25803.400391|25803.400391|24384.154297|     0|\n",
            "|140|2000-07-18|     25021.5|25732.300781|24879.300781|24950.400391|23578.070313| 48253|\n",
            "|141|2000-07-19|     25021.5|25732.300781|24879.300781|24950.400391|23578.070313| 48253|\n",
            "|142|2000-07-20|24523.900391|26158.800781|23813.099609|24666.099609|23309.408203| 79062|\n",
            "|143|2000-07-21|24523.900391|25234.699219|24523.900391|24950.400391|23578.070313| 35029|\n",
            "|144|2000-07-24|24950.400391|     25448.0|24559.400391|24950.400391|23578.070313| 42626|\n",
            "|145|2000-07-25|25519.099609|26016.699219|     24595.0|25625.699219|24216.228516|142789|\n",
            "|146|2000-07-26|25590.199219|28220.300781|25590.199219|27367.300781|25862.035156|208064|\n",
            "|147|2000-07-27|27509.400391|28042.599609|     26727.5|27331.699219|25828.392578|102414|\n",
            "|148|2000-07-28|26798.599609|28362.400391|26798.599609|27011.800781|25526.091797|119577|\n",
            "|149|2000-07-31|26869.699219|27011.800781|     26301.0|26869.699219|25391.804688| 75826|\n",
            "|150|2000-08-01|26656.400391|27722.699219|26656.400391|27722.699219|26197.890625| 77092|\n",
            "|151|2000-08-02|28504.599609|30210.599609|     28433.5|29499.800781|27877.246094|195122|\n",
            "|152|2000-08-03|     30992.5|     30992.5|28788.900391|28788.900391|27205.447266|219881|\n",
            "|153|2000-08-04|29073.300781|29073.300781|27651.599609|28220.300781|26668.123047| 96084|\n",
            "|154|2000-08-07|27509.400391|     30139.5|27438.300781|29499.800781|27877.246094| 84970|\n",
            "|155|2000-08-08|29002.199219|30068.400391|29002.199219|29997.400391|28347.476563| 80890|\n",
            "|156|2000-08-09|     30566.0|     32627.5|30210.599609|30921.400391|29220.652344|127877|\n",
            "|157|2000-08-10|30281.699219|     32627.5|29855.199219|     32627.5|30832.914063|101430|\n",
            "|158|2000-08-11|     32627.5|     33054.0|31632.300781|32343.099609| 30564.15625| 67526|\n",
            "|159|2000-08-14|33196.101563|34475.601563|31632.300781|31632.300781|29892.451172|139132|\n",
            "| 40|2000-02-29|25163.699219|26087.699219|24239.599609|25519.099609|24115.490234|233246|\n",
            "| 41|2000-03-01|25519.099609|25519.099609|25519.099609|25519.099609|24115.490234|     0|\n",
            "| 42|2000-03-02|25767.900391|29144.300781|25767.900391|28575.699219|27003.972656|408391|\n",
            "| 43|2000-03-03|27793.800781|29499.800781|26798.599609|27864.800781|26332.175781|216505|\n",
            "| 44|2000-03-06|28291.300781|29144.300781|27367.300781|28717.800781|27138.255859|170784|\n",
            "| 45|2000-03-07|28575.699219|29357.599609|27935.900391|28504.599609| 26936.78125|109730|\n",
            "| 46|2000-03-08|28078.099609|28291.300781|     27154.0|28113.599609|26567.289063| 89331|\n",
            "| 47|2000-03-09|28717.800781|29428.699219|28078.099609|     28433.5|26869.591797|196669|\n",
            "| 48|2000-03-10|28646.800781|28717.800781|27367.300781|28078.099609|26533.740234| 87502|\n",
            "| 49|2000-03-13|     27154.0|28149.199219|     27154.0|27722.699219|26197.890625| 59507|\n",
            "| 50|2000-03-14|27935.900391|27935.900391|25945.599609|26869.699219|25391.804688| 43611|\n",
            "| 51|2000-03-15|25945.599609|26798.599609|25234.699219|26798.599609|25324.617188| 74138|\n",
            "| 52|2000-03-16|27082.900391|28291.300781|26016.699219|26016.699219|24585.720703| 84548|\n",
            "| 53|2000-03-17|26016.699219|26869.699219|24523.900391|25341.400391|23947.566406| 66119|\n",
            "| 54|2000-03-20|25519.099609|25519.099609|     24595.0|24879.300781|23510.880859| 53458|\n",
            "| 55|2000-03-21|24523.900391|25945.599609|24026.300781|24523.900391|23175.029297| 83282|\n",
            "| 56|2000-03-22|24239.599609|25128.099609|24097.400391|24452.800781|23107.839844| 43892|\n",
            "| 57|2000-03-23|24879.300781|25305.800781|23813.099609|23813.099609|22503.324219| 68089|\n",
            "| 58|2000-03-24|     24168.5|25590.199219|23813.099609|25092.599609|23712.449219| 59226|\n",
            "| 59|2000-03-27|24879.300781|25590.199219|24239.599609|24879.300781|23510.880859| 50926|\n",
            "| 60|2000-03-28|24879.300781|25376.900391|24239.599609|24666.099609|23309.408203| 30387|\n",
            "| 61|2000-03-29|24701.599609|24737.199219|23955.199219|24666.099609|23309.408203| 65556|\n",
            "| 62|2000-03-30|24666.099609|24666.099609|23813.099609|     24168.5|22839.177734| 38124|\n",
            "| 63|2000-03-31|     24168.5|24488.400391|24026.300781|     24168.5|22839.177734| 24478|\n",
            "| 64|2000-04-03|24808.199219|24808.199219|23137.800781|23457.599609|22167.376953| 32638|\n",
            "| 65|2000-04-04|22533.599609|23813.099609|22533.599609|23457.599609|22167.376953| 68089|\n",
            "| 66|2000-04-05|23457.599609|23457.599609|23457.599609|23457.599609|22167.376953|     0|\n",
            "| 67|2000-04-06|23457.599609|23813.099609|22782.400391|23102.199219|21831.525391| 25041|\n",
            "| 68|2000-04-07|23422.099609|26229.900391|22746.800781|23102.199219|21831.525391|195685|\n",
            "| 69|2000-04-10|23102.199219|23813.099609|22817.900391|23244.400391| 21965.90625| 93692|\n",
            "| 70|2000-04-11|23244.400391|     23351.0|22213.699219|22213.699219|20991.894531| 33341|\n",
            "| 71|2000-04-12|22249.199219|22391.400391|21751.599609|22178.099609|20958.253906| 38546|\n",
            "| 72|2000-04-13|22178.099609|22178.099609|22178.099609|22178.099609|20958.253906|     0|\n",
            "| 73|2000-04-14|21751.599609|21822.699219|21111.900391|21680.599609|20488.117188| 33622|\n",
            "| 74|2000-04-17|     19903.5|20969.699219|     19050.5|19761.300781|18674.380859| 56272|\n",
            "| 75|2000-04-18|20472.099609|     21183.0|19619.099609|     19903.5|18808.763672| 62321|\n",
            "| 76|2000-04-19|20614.300781|20898.599609|20187.800781|20614.300781| 19480.46875| 56131|\n",
            "| 77|2000-04-20|20578.800781|21147.400391|     20401.0|     20756.5|19614.847656| 29824|\n",
            "| 78|2000-04-21|     20756.5|21360.699219|     20756.5|21254.099609|20085.078125| 69495|\n",
            "| 79|2000-04-24|21538.400391|     21609.5|20685.400391|21538.400391|20353.740234| 40234|\n",
            "| 80|2000-04-25|21111.900391|21325.099609|     20756.5|20969.699219|19816.320313| 22227|\n",
            "| 81|2000-04-26|20969.699219|21538.400391|20187.800781|20543.199219|19413.279297| 33200|\n",
            "| 82|2000-04-27|20258.900391|21040.800781|19832.400391|20258.900391|19144.613281| 27010|\n",
            "| 83|2000-04-28|20258.900391|20614.300781|     19903.5|20543.199219|19413.279297| 28558|\n",
            "| 84|2000-05-01|20543.199219|20543.199219|20543.199219|20543.199219|19413.279297|     0|\n",
            "| 85|2000-05-02|20187.800781|     21183.0|20187.800781|     21183.0|20017.882813| 36999|\n",
            "| 86|2000-05-03|21325.099609|21822.699219|     20827.5|     21183.0|20017.882813| 55990|\n",
            "| 87|2000-05-04|21325.099609|24346.199219|20969.699219|23813.099609|22503.324219|283609|\n",
            "| 88|2000-05-05|23813.099609|23813.099609|23813.099609|23813.099609|22503.324219|     0|\n",
            "| 89|2000-05-08|24026.300781|24026.300781|20614.300781|22107.099609|20891.160156|131816|\n",
            "| 90|2000-05-09|22107.099609|22107.099609|22107.099609|22107.099609|20891.160156|     0|\n",
            "| 91|2000-05-10|21254.099609|21893.800781|20898.599609|21822.699219|20622.402344| 35170|\n",
            "| 92|2000-05-11|21822.699219|21822.699219|21822.699219|21822.699219|20622.402344|     0|\n",
            "| 93|2000-05-12|21396.199219|22107.099609|     21183.0|21680.599609|20488.117188| 39390|\n",
            "| 94|2000-05-15|21502.800781|22178.099609|21111.900391|21325.099609|20152.169922| 41641|\n",
            "| 95|2000-05-16|21964.900391|21964.900391|20863.099609|21680.599609|20488.117188| 57819|\n",
            "| 96|2000-05-17|21680.599609|     22036.0|20614.300781|20614.300781| 19480.46875| 39249|\n",
            "| 97|2000-05-18|     19903.5|20258.900391|     19050.5|20187.800781|19077.423828| 31653|\n",
            "| 98|2000-05-19|20472.099609|20472.099609|19228.199219|19761.300781|18674.380859| 30246|\n",
            "| 99|2000-05-22|19405.900391|19690.199219|17557.699219|17557.699219|16591.984375| 58382|\n",
            "+---+----------+------------+------------+------------+------------+------------+------+\n",
            "only showing top 100 rows\n",
            "\n"
          ]
        }
      ],
      "source": [
        "df2.show(100)"
      ]
    },
    {
      "cell_type": "markdown",
      "id": "16908fa6",
      "metadata": {
        "id": "16908fa6"
      },
      "source": [
        "### Remove the first row from the data (hint: drop the rows where ALL values are null), then add a new column \"diff\", which is the difference between high and low columns"
      ]
    },
    {
      "cell_type": "code",
      "execution_count": null,
      "id": "9f2eaa25",
      "metadata": {
        "id": "9f2eaa25"
      },
      "outputs": [],
      "source": [
        "df3 = df.dropna(how='all')"
      ]
    },
    {
      "cell_type": "code",
      "source": [
        "from pyspark.sql.functions import col\n",
        "df4 = df.withColumn(\"diff\", col(\"High\") - col(\"Low\"))"
      ],
      "metadata": {
        "id": "80yU89TxYerV"
      },
      "id": "80yU89TxYerV",
      "execution_count": null,
      "outputs": []
    },
    {
      "cell_type": "markdown",
      "id": "1f14581b",
      "metadata": {
        "id": "1f14581b"
      },
      "source": [
        "### Create a new write stream using the new generated dataframe and call the generate table \"modified_data\""
      ]
    },
    {
      "cell_type": "code",
      "source": [
        "stock.stop()"
      ],
      "metadata": {
        "id": "ba7J6V_WfUp2"
      },
      "id": "ba7J6V_WfUp2",
      "execution_count": null,
      "outputs": []
    },
    {
      "cell_type": "code",
      "source": [
        "writer = df4.writeStream.outputMode(\"append\") \\\n",
        "  .format(\"memory\") \\\n",
        "  .option(\"queryName\", \"modified_data\") \\\n",
        "  .option(\"truncate\", False) \\\n",
        "  .option(\"numRows\", 100)"
      ],
      "metadata": {
        "id": "M9NFfgPNfag3"
      },
      "id": "M9NFfgPNfag3",
      "execution_count": null,
      "outputs": []
    },
    {
      "cell_type": "code",
      "source": [
        "query = writer.start()"
      ],
      "metadata": {
        "id": "9gm9ai8XfeUK"
      },
      "id": "9gm9ai8XfeUK",
      "execution_count": null,
      "outputs": []
    },
    {
      "cell_type": "markdown",
      "id": "e16c3036",
      "metadata": {
        "id": "e16c3036"
      },
      "source": [
        "### Write the generated data into files instead of the memory. "
      ]
    },
    {
      "cell_type": "code",
      "execution_count": null,
      "id": "6441b76a",
      "metadata": {
        "id": "6441b76a"
      },
      "outputs": [],
      "source": [
        "writer = df4.writeStream \\\n",
        "    .outputMode(\"append\") \\\n",
        "    .format(\"csv\") \\\n",
        "    .option(\"path\", \"Output\") \\\n",
        "   .option(\"checkpointLocation\", \"checkpoint\") \\\n",
        "    .option(\"header\", \"true\")"
      ]
    },
    {
      "cell_type": "code",
      "source": [
        "query = writer.start()"
      ],
      "metadata": {
        "id": "2S5-43saf00n"
      },
      "id": "2S5-43saf00n",
      "execution_count": null,
      "outputs": []
    },
    {
      "cell_type": "markdown",
      "id": "72f07e3f",
      "metadata": {
        "id": "72f07e3f"
      },
      "source": [
        "### Stop the query. Now, try reading the generated files into a normal dataframe\n",
        "- Create a schema and use it to read the data.\n",
        "- Show the output."
      ]
    },
    {
      "cell_type": "code",
      "source": [
        "query.stop()"
      ],
      "metadata": {
        "id": "AaPgNS5af9NO"
      },
      "id": "AaPgNS5af9NO",
      "execution_count": null,
      "outputs": []
    },
    {
      "cell_type": "code",
      "source": [
        "from pyspark.sql.types import StructType, StructField, StringType, DoubleType,IntegerType,DateType\n",
        "\n",
        "my_schema = StructType([\n",
        "    StructField('ID',  IntegerType(), True),\n",
        "    StructField('Date',DateType(), True),\n",
        "    StructField('Open', DoubleType(), True),\n",
        "    StructField('High', DoubleType(), True),\n",
        "    StructField('Low', DoubleType(), True),\n",
        "    StructField('Close', DoubleType(), True),\n",
        "    StructField('dj Close', DoubleType(), True),\n",
        "    StructField('Volume', IntegerType(), True)\n",
        "\n",
        "])"
      ],
      "metadata": {
        "id": "KWiwACN5f-Wv"
      },
      "id": "KWiwACN5f-Wv",
      "execution_count": null,
      "outputs": []
    },
    {
      "cell_type": "code",
      "source": [
        "from pyspark.sql import SparkSession\n",
        "\n",
        "spark = SparkSession.builder.appName(\"ReadCSV\").getOrCreate()\n",
        "\n",
        "df = spark.readStream.format('csv').option(\"header\", \"true\").option(\"inferSchema\", \"true\").load('Output/*.csv',schema=my_schema)"
      ],
      "metadata": {
        "id": "IvKpNFLDgD5z"
      },
      "id": "IvKpNFLDgD5z",
      "execution_count": null,
      "outputs": []
    },
    {
      "cell_type": "code",
      "source": [
        "writer = df.writeStream.outputMode(\"append\") \\\n",
        "  .format(\"memory\") \\\n",
        "  .option(\"queryName\", \"normal_dataframe\") \\\n",
        "  .option(\"truncate\", False) \\\n",
        "  .option(\"numRows\", 100) "
      ],
      "metadata": {
        "id": "veH0GFpUgHcN"
      },
      "id": "veH0GFpUgHcN",
      "execution_count": null,
      "outputs": []
    },
    {
      "cell_type": "code",
      "source": [
        "query = writer.start()"
      ],
      "metadata": {
        "id": "gZYD_gF3gI-H"
      },
      "id": "gZYD_gF3gI-H",
      "execution_count": null,
      "outputs": []
    },
    {
      "cell_type": "code",
      "source": [
        "df5 = spark.sql(\"SELECT * FROM normal_dataframe\")\n",
        "df5.show()"
      ],
      "metadata": {
        "colab": {
          "base_uri": "https://localhost:8080/"
        },
        "id": "zSIIjeOjgLO1",
        "outputId": "08636727-41a4-42d4-e62e-fe98db9e40d3"
      },
      "id": "zSIIjeOjgLO1",
      "execution_count": null,
      "outputs": [
        {
          "output_type": "stream",
          "name": "stdout",
          "text": [
            "+---+----------+------------+------------+------------+------------+------------+------+\n",
            "| ID|      Date|        Open|        High|         Low|       Close|    dj Close|Volume|\n",
            "+---+----------+------------+------------+------------+------------+------------+------+\n",
            "|120|2000-06-20|22817.900391|23102.199219|21680.599609|22320.300781|21092.632813| 34466|\n",
            "|121|2000-06-21|21893.800781|22675.699219|21680.599609|22675.699219|21428.484375| 68651|\n",
            "|122|2000-06-22|23386.599609|23386.599609|     22462.5|23031.099609|21764.335938| 97209|\n",
            "|123|2000-06-23|22107.099609|24097.400391|22107.099609|     22889.0|21630.052734|199483|\n",
            "|124|2000-06-26|23102.199219|     24168.5|22569.099609|24026.300781|22704.796875|121969|\n",
            "|125|2000-06-27|24026.300781|25519.099609|     23742.0|24026.300781|22704.796875|113809|\n",
            "|126|2000-06-28|23884.199219|24666.099609|23884.199219|24666.099609|23309.408203| 86236|\n",
            "|127|2000-06-29|25234.699219|25234.699219|23919.699219|24239.599609|22906.365234| 45299|\n",
            "|128|2000-06-30|24523.900391|25092.599609|     23742.0|24879.300781|23510.880859| 76670|\n",
            "|129|2000-07-03|24239.599609|25590.199219|24239.599609|25092.599609|23712.449219| 63306|\n",
            "|130|2000-07-04|25767.900391|26087.699219|25234.699219|     25448.0|24048.302734| 45299|\n",
            "|131|2000-07-05|     25448.0|25590.199219|24523.900391|     25448.0|24048.302734| 48816|\n",
            "|132|2000-07-06|25519.099609|27367.300781|25128.099609|26585.300781|25123.048828|178662|\n",
            "|133|2000-07-07|27011.800781|     27154.0|     26301.0|27011.800781|25526.091797|104103|\n",
            "|134|2000-07-10|27722.699219|27722.699219|26443.199219|27011.800781|25526.091797|101570|\n",
            "|135|2000-07-11|27011.800781|27011.800781|26372.099609|26514.199219|25055.859375| 73716|\n",
            "|136|2000-07-12|26514.199219|27935.900391|26087.699219|26869.699219|25391.804688|139976|\n",
            "|137|2000-07-13|26869.699219|26940.800781|     26301.0|26407.599609|24955.119141| 64994|\n",
            "|138|2000-07-14|25945.599609|26407.599609|25341.400391|25803.400391|24384.154297| 75404|\n",
            "|139|2000-07-17|25803.400391|25803.400391|25803.400391|25803.400391|24384.154297|     0|\n",
            "+---+----------+------------+------------+------------+------------+------------+------+\n",
            "only showing top 20 rows\n",
            "\n"
          ]
        }
      ]
    },
    {
      "cell_type": "markdown",
      "id": "4814d697",
      "metadata": {
        "id": "4814d697"
      },
      "source": [
        "### Sort the dataframe based on the ID"
      ]
    },
    {
      "cell_type": "code",
      "execution_count": null,
      "id": "c51d91a5",
      "metadata": {
        "id": "c51d91a5",
        "outputId": "f6923864-f20e-4343-a1e6-79170eb9fe15",
        "colab": {
          "base_uri": "https://localhost:8080/"
        }
      },
      "outputs": [
        {
          "output_type": "stream",
          "name": "stdout",
          "text": [
            "+---+----------+------------+------------+------------+------------+------------+------+\n",
            "| ID|      Date|        Open|        High|         Low|       Close|    dj Close|Volume|\n",
            "+---+----------+------------+------------+------------+------------+------------+------+\n",
            "|  0|2000-01-04|22817.900391|25696.800781|22817.900391|24879.300781|23510.880859|108745|\n",
            "|  1|2000-01-05|24523.900391|26229.900391|23670.900391|24417.300781|23074.294922|175990|\n",
            "|  2|2000-01-06|24381.699219|24666.099609|22746.800781|22817.900391|21562.865234| 71746|\n",
            "|  3|2000-01-07|     22036.0|24879.300781|     22036.0|23884.199219|22570.513672|120984|\n",
            "|  4|2000-01-10|24879.300781|25519.099609|23813.099609|24061.900391|22738.439453|151371|\n",
            "|  5|2000-01-11|     24168.5|     25021.5|23955.199219|24239.599609|22906.365234| 95943|\n",
            "|  6|2000-01-12|     24168.5|24452.800781|23457.599609|23670.900391|22368.947266| 61899|\n",
            "|  7|2000-01-13|23670.900391|24132.900391|23102.199219|23244.400391| 21965.90625| 57538|\n",
            "|  8|2000-01-14|23457.599609|     24168.5|22746.800781|23244.400391| 21965.90625| 84267|\n",
            "|  9|2000-01-17|22533.599609|23457.599609|22533.599609|23457.599609|22167.376953| 67807|\n",
            "| 10|2000-01-18|23457.599609|     23742.0|22746.800781|23422.099609|22133.832031| 27995|\n",
            "| 11|2000-01-19|22817.900391|23173.300781|     22036.0|     22036.0|20823.970703| 44173|\n",
            "| 12|2000-01-20|21325.099609|22000.400391|     20756.5|21680.599609|20488.117188| 47550|\n",
            "| 13|2000-01-21|21680.599609|22391.400391|20863.099609|21680.599609|20488.117188| 80750|\n",
            "| 14|2000-01-24|20969.699219|21822.699219|20969.699219|20969.699219|19816.320313| 79906|\n",
            "| 15|2000-01-25|20258.900391|20934.199219|     19548.0|20116.699219|19010.236328|170925|\n",
            "| 16|2000-01-26|20223.300781|20543.199219|19761.300781|     20330.0|19211.804688| 59929|\n",
            "| 17|2000-01-27|     20401.0|22746.800781|     20330.0|21040.800781|19883.511719|139132|\n",
            "| 18|2000-01-28|21431.800781|22107.099609|21040.800781|21964.900391|20756.783203| 78640|\n",
            "| 19|2000-01-31|21325.099609|21893.800781|     21183.0|21467.300781|20286.552734| 45861|\n",
            "+---+----------+------------+------------+------------+------------+------------+------+\n",
            "only showing top 20 rows\n",
            "\n"
          ]
        }
      ],
      "source": [
        "finalDFSorted = df5.sort('ID')\n",
        "finalDFSorted.show()"
      ]
    },
    {
      "cell_type": "code",
      "execution_count": null,
      "id": "e218d5ae",
      "metadata": {
        "id": "e218d5ae"
      },
      "outputs": [],
      "source": []
    }
  ],
  "metadata": {
    "kernelspec": {
      "display_name": "Python 3 (ipykernel)",
      "language": "python",
      "name": "python3"
    },
    "language_info": {
      "codemirror_mode": {
        "name": "ipython",
        "version": 3
      },
      "file_extension": ".py",
      "mimetype": "text/x-python",
      "name": "python",
      "nbconvert_exporter": "python",
      "pygments_lexer": "ipython3",
      "version": "3.9.12"
    },
    "colab": {
      "provenance": [],
      "include_colab_link": true
    }
  },
  "nbformat": 4,
  "nbformat_minor": 5
}