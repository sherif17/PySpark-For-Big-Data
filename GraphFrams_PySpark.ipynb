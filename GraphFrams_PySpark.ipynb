{
  "cells": [
    {
      "cell_type": "markdown",
      "metadata": {
        "id": "view-in-github",
        "colab_type": "text"
      },
      "source": [
        "<a href=\"https://colab.research.google.com/github/sherif17/PySpark-For-Big-Data/blob/main/GraphFrams_PySpark.ipynb\" target=\"_parent\"><img src=\"https://colab.research.google.com/assets/colab-badge.svg\" alt=\"Open In Colab\"/></a>"
      ]
    },
    {
      "cell_type": "markdown",
      "metadata": {
        "id": "779b346d"
      },
      "source": [
        "## The following section is for Colab Users.\n",
        "### Just run the following code cells"
      ],
      "id": "779b346d"
    },
    {
      "cell_type": "code",
      "execution_count": null,
      "metadata": {
        "colab": {
          "base_uri": "https://localhost:8080/"
        },
        "id": "7d73eb01",
        "outputId": "93b114b1-7170-4808-ecd4-b86b2ba6736a"
      },
      "outputs": [
        {
          "output_type": "stream",
          "name": "stdout",
          "text": [
            "\u001b[2K     \u001b[90m━━━━━━━━━━━━━━━━━━━━━━━━━━━━━━━━━━━━━━━\u001b[0m \u001b[32m310.8/310.8 MB\u001b[0m \u001b[31m4.5 MB/s\u001b[0m eta \u001b[36m0:00:00\u001b[0m\n",
            "\u001b[?25h  Preparing metadata (setup.py) ... \u001b[?25l\u001b[?25hdone\n",
            "\u001b[2K     \u001b[90m━━━━━━━━━━━━━━━━━━━━━━━━━━━━━━━━━━━━━━\u001b[0m \u001b[32m154.7/154.7 kB\u001b[0m \u001b[31m14.7 MB/s\u001b[0m eta \u001b[36m0:00:00\u001b[0m\n",
            "\u001b[?25h  Building wheel for pyspark (setup.py) ... \u001b[?25l\u001b[?25hdone\n"
          ]
        }
      ],
      "source": [
        "!apt-get install openjdk-11-jdk-headless -qq > /dev/null\n",
        "!wget -q https://bitbucket.org/habedi/datasets/raw/b6769c4664e7ff68b001e2f43bc517888cbe3642/spark/spark-3.0.2-bin-hadoop2.7.tgz\n",
        "!tar xf spark-3.0.2-bin-hadoop2.7.tgz\n",
        "!rm -rf spark-3.0.2-bin-hadoop2.7.tgz*\n",
        "!pip -q install findspark pyspark graphframes"
      ],
      "id": "7d73eb01"
    },
    {
      "cell_type": "code",
      "execution_count": null,
      "metadata": {
        "colab": {
          "base_uri": "https://localhost:8080/"
        },
        "id": "299e0d6a",
        "outputId": "ee4495d6-8cb2-499c-8d1a-581eefc91f7a"
      },
      "outputs": [
        {
          "output_type": "stream",
          "name": "stdout",
          "text": [
            "--2023-05-01 20:18:29--  https://repos.spark-packages.org/graphframes/graphframes/0.8.2-spark3.0-s_2.12/graphframes-0.8.2-spark3.0-s_2.12.jar\n",
            "Resolving repos.spark-packages.org (repos.spark-packages.org)... 52.85.151.5, 52.85.151.57, 52.85.151.46, ...\n",
            "Connecting to repos.spark-packages.org (repos.spark-packages.org)|52.85.151.5|:443... connected.\n",
            "HTTP request sent, awaiting response... 200 OK\n",
            "Length: 247882 (242K) [binary/octet-stream]\n",
            "Saving to: ‘/content/spark-3.0.2-bin-hadoop2.7/jars/graphframes-0.8.2-spark3.0-s_2.12.jar’\n",
            "\n",
            "\r          graphfram   0%[                    ]       0  --.-KB/s               \rgraphframes-0.8.2-s 100%[===================>] 242.07K  --.-KB/s    in 0.007s  \n",
            "\n",
            "2023-05-01 20:18:29 (32.7 MB/s) - ‘/content/spark-3.0.2-bin-hadoop2.7/jars/graphframes-0.8.2-spark3.0-s_2.12.jar’ saved [247882/247882]\n",
            "\n"
          ]
        }
      ],
      "source": [
        "!wget https://repos.spark-packages.org/graphframes/graphframes/0.8.2-spark3.0-s_2.12/graphframes-0.8.2-spark3.0-s_2.12.jar -P /content/spark-3.0.2-bin-hadoop2.7/jars/\n",
        "!cp /content/spark-3.0.2-bin-hadoop2.7/jars/graphframes-0.8.2-spark3.0-s_2.12.jar /content/spark-3.0.2-bin-hadoop2.7/graphframes-0.8.2-spark3.0-s_2.12.zip"
      ],
      "id": "299e0d6a"
    },
    {
      "cell_type": "code",
      "execution_count": null,
      "metadata": {
        "id": "ee0d39ec"
      },
      "outputs": [],
      "source": [
        "import os\n",
        "\n",
        "os.environ[\"JAVA_HOME\"] = \"/usr/lib/jvm/java-11-openjdk-amd64\"\n",
        "os.environ[\"SPARK_HOME\"] = \"/content/spark-3.0.2-bin-hadoop2.7\"\n",
        "os.environ[\"HADOOP_HOME\"] = os.environ[\"SPARK_HOME\"]\n",
        "\n",
        "os.environ[\"PYSPARK_DRIVER_PYTHON\"] = \"jupyter\"\n",
        "os.environ[\"PYSPARK_DRIVER_PYTHON_OPTS\"] = \"notebook\"\n",
        "os.environ[\"PYSPARK_SUBMIT_ARGS\"] = \"--master local[*] pyspark-shell\""
      ],
      "id": "ee0d39ec"
    },
    {
      "cell_type": "code",
      "execution_count": null,
      "metadata": {
        "id": "7136d8e6"
      },
      "outputs": [],
      "source": [
        "import findspark\n",
        "findspark.init()"
      ],
      "id": "7136d8e6"
    },
    {
      "cell_type": "code",
      "execution_count": null,
      "metadata": {
        "id": "92f3e19b"
      },
      "outputs": [],
      "source": [
        "!export PYSPARK_SUBMIT_ARGS=\"--master local[*] pyspark-shell\"\n",
        "!export PYSPARK_DRIVER_PYTHON=jupyter\n",
        "!export PYSPARK_DRIVER_PYTHON_OPTS=notebook"
      ],
      "id": "92f3e19b"
    },
    {
      "cell_type": "code",
      "execution_count": null,
      "metadata": {
        "id": "f1504ff4"
      },
      "outputs": [],
      "source": [
        "from pyspark.sql import SparkSession\n",
        "from graphframes import *\n",
        "\n",
        "spark = SparkSession.builder.master(\"local[*]\").appName(\"GraphFrames\").getOrCreate()"
      ],
      "id": "f1504ff4"
    },
    {
      "cell_type": "code",
      "execution_count": null,
      "metadata": {
        "id": "252db99a"
      },
      "outputs": [],
      "source": [
        "os.environ[\"PYSPARK_SUBMIT_ARGS\"] = \"--packages graphframes:graphframes:0.8.1-spark3.0-s_2.12 pyspark-shell\""
      ],
      "id": "252db99a"
    },
    {
      "cell_type": "markdown",
      "metadata": {
        "id": "66232934"
      },
      "source": [
        "**************************************************************************\n",
        "**************************************************************************\n",
        "**************************************************************************"
      ],
      "id": "66232934"
    },
    {
      "cell_type": "code",
      "execution_count": null,
      "metadata": {
        "colab": {
          "base_uri": "https://localhost:8080/",
          "height": 196
        },
        "id": "c90808ca",
        "outputId": "e607222f-54c8-49c7-f443-106e55ea5ada"
      },
      "outputs": [
        {
          "output_type": "execute_result",
          "data": {
            "text/plain": [
              "<SparkContext master=local[*] appName=GraphFrames>"
            ],
            "text/html": [
              "\n",
              "        <div>\n",
              "            <p><b>SparkContext</b></p>\n",
              "\n",
              "            <p><a href=\"http://f65ace7e3cd7:4040\">Spark UI</a></p>\n",
              "\n",
              "            <dl>\n",
              "              <dt>Version</dt>\n",
              "                <dd><code>v3.0.2</code></dd>\n",
              "              <dt>Master</dt>\n",
              "                <dd><code>local[*]</code></dd>\n",
              "              <dt>AppName</dt>\n",
              "                <dd><code>GraphFrames</code></dd>\n",
              "            </dl>\n",
              "        </div>\n",
              "        "
            ]
          },
          "metadata": {},
          "execution_count": 8
        }
      ],
      "source": [
        "spark.conf.set(\"spark.sql.repl.eagerEval.enabled\", True) # Property used to format output tables better\n",
        "spark\n",
        "sc = spark.sparkContext\n",
        "sc"
      ],
      "id": "c90808ca"
    },
    {
      "cell_type": "code",
      "execution_count": null,
      "metadata": {
        "colab": {
          "base_uri": "https://localhost:8080/",
          "height": 17
        },
        "id": "2a0819b3",
        "outputId": "cd46ffbd-4e94-42fa-f04a-3e0302b1a5c2"
      },
      "outputs": [
        {
          "output_type": "display_data",
          "data": {
            "text/plain": [
              "<IPython.core.display.HTML object>"
            ],
            "text/html": [
              "<style>pre { white-space: pre !important; }</style>"
            ]
          },
          "metadata": {}
        }
      ],
      "source": [
        "from IPython.display import display, HTML\n",
        "display(HTML(\"<style>pre { white-space: pre !important; }</style>\"))"
      ],
      "id": "2a0819b3"
    },
    {
      "cell_type": "markdown",
      "metadata": {
        "id": "d7f57da0"
      },
      "source": [
        "### Read departuredelays.csv in Edge DataFrame\n",
        "### Read airport-codes-na.txt in Vertix DataFrame (the separator is Tab i.e sep = '\\t' )"
      ],
      "id": "d7f57da0"
    },
    {
      "cell_type": "markdown",
      "metadata": {
        "id": "631c334e"
      },
      "source": [
        "#### The US flight delays data set has five columns:\n",
        "- The <b>date</b> column contains an integer like 02190925 . When converted, this maps to 02-19 09:25 am.\n",
        "- The <b>delay</b> column gives the delay in minutes between the scheduled and actual departure times. Early departures show negative numbers.\n",
        "- The <b>distance</b> column gives the distance in miles from the origin airport to the destination airport.\n",
        "- The <b>origin</b> column contains the origin IATA airport code.\n",
        "- The <b>destination</b> column contains the destination IATA airport code.\n",
        "\n",
        "#### The airport-codes data set has four columns:\n",
        "- The <b>IATA</b> column contains IATA airport code.\n",
        "- The <b>City, State, and Country</b> columns contains information about the airport location. "
      ],
      "id": "631c334e"
    },
    {
      "cell_type": "code",
      "execution_count": null,
      "metadata": {
        "id": "30f02a5a"
      },
      "outputs": [],
      "source": [
        "# Import necessary packages\n",
        "from pyspark.sql.functions import to_timestamp\n",
        "\n",
        "# Read 'departuredelays.csv' in an Edge DataFrame\n",
        "edges_df = spark.read.format('csv').options(header=True, inferSchema=True).load('/content/departuredelays.csv')\n",
        "# edges_df = edges_df.withColumn('Date', to_timestamp(edges_df['Date'], 'MMddHHmm'))\n",
        "\n",
        "# Read 'airport-codes-na.txt' in a Vertex DataFrame\n",
        "vertices_df = spark.read.format('csv').options(header=True, inferSchema=True, sep='\\t').load('/content/airport-codes-na.txt')\n",
        "# vertices = spark.read.csv(\"airport-codes-na.txt\", sep='\\t', header=True)"
      ],
      "id": "30f02a5a"
    },
    {
      "cell_type": "code",
      "execution_count": null,
      "metadata": {
        "colab": {
          "base_uri": "https://localhost:8080/"
        },
        "id": "m-Uymv5liXm6",
        "outputId": "37c09a10-1917-4937-fd6b-259cb5b17f52"
      },
      "outputs": [
        {
          "output_type": "stream",
          "name": "stdout",
          "text": [
            "+-----------+-----+-------+----+\n",
            "|       City|State|Country|IATA|\n",
            "+-----------+-----+-------+----+\n",
            "| Abbotsford|   BC| Canada| YXX|\n",
            "|   Aberdeen|   SD|    USA| ABR|\n",
            "|    Abilene|   TX|    USA| ABI|\n",
            "|      Akron|   OH|    USA| CAK|\n",
            "|    Alamosa|   CO|    USA| ALS|\n",
            "|     Albany|   GA|    USA| ABY|\n",
            "|     Albany|   NY|    USA| ALB|\n",
            "|Albuquerque|   NM|    USA| ABQ|\n",
            "| Alexandria|   LA|    USA| AEX|\n",
            "|  Allentown|   PA|    USA| ABE|\n",
            "|   Alliance|   NE|    USA| AIA|\n",
            "|     Alpena|   MI|    USA| APN|\n",
            "|    Altoona|   PA|    USA| AOO|\n",
            "|   Amarillo|   TX|    USA| AMA|\n",
            "|Anahim Lake|   BC| Canada| YAA|\n",
            "|  Anchorage|   AK|    USA| ANC|\n",
            "|   Appleton|   WI|    USA| ATW|\n",
            "|     Arviat|  NWT| Canada| YEK|\n",
            "|  Asheville|   NC|    USA| AVL|\n",
            "|      Aspen|   CO|    USA| ASE|\n",
            "+-----------+-----+-------+----+\n",
            "only showing top 20 rows\n",
            "\n"
          ]
        }
      ],
      "source": [
        "vertices_df.show()"
      ],
      "id": "m-Uymv5liXm6"
    },
    {
      "cell_type": "code",
      "execution_count": null,
      "metadata": {
        "colab": {
          "base_uri": "https://localhost:8080/"
        },
        "id": "xfmEVJEnhjl6",
        "outputId": "4b72e2bd-a44d-4184-cbd7-8d985c130b12"
      },
      "outputs": [
        {
          "output_type": "stream",
          "name": "stdout",
          "text": [
            "+-------+-----+--------+------+-----------+\n",
            "|   date|delay|distance|origin|destination|\n",
            "+-------+-----+--------+------+-----------+\n",
            "|1011245|    6|     602|   ABE|        ATL|\n",
            "|1020600|   -8|     369|   ABE|        DTW|\n",
            "|1021245|   -2|     602|   ABE|        ATL|\n",
            "|1020605|   -4|     602|   ABE|        ATL|\n",
            "|1031245|   -4|     602|   ABE|        ATL|\n",
            "|1030605|    0|     602|   ABE|        ATL|\n",
            "|1041243|   10|     602|   ABE|        ATL|\n",
            "|1040605|   28|     602|   ABE|        ATL|\n",
            "|1051245|   88|     602|   ABE|        ATL|\n",
            "|1050605|    9|     602|   ABE|        ATL|\n",
            "|1061215|   -6|     602|   ABE|        ATL|\n",
            "|1061725|   69|     602|   ABE|        ATL|\n",
            "|1061230|    0|     369|   ABE|        DTW|\n",
            "|1060625|   -3|     602|   ABE|        ATL|\n",
            "|1070600|    0|     369|   ABE|        DTW|\n",
            "|1071725|    0|     602|   ABE|        ATL|\n",
            "|1071230|    0|     369|   ABE|        DTW|\n",
            "|1070625|    0|     602|   ABE|        ATL|\n",
            "|1071219|    0|     569|   ABE|        ORD|\n",
            "|1080600|    0|     369|   ABE|        DTW|\n",
            "+-------+-----+--------+------+-----------+\n",
            "only showing top 20 rows\n",
            "\n"
          ]
        }
      ],
      "source": [
        "edges_df.show()"
      ],
      "id": "xfmEVJEnhjl6"
    },
    {
      "cell_type": "markdown",
      "metadata": {
        "id": "e1d90463"
      },
      "source": [
        "### In the vertix DataFrame, drop any duplicated rows with the same  IATA code."
      ],
      "id": "e1d90463"
    },
    {
      "cell_type": "code",
      "execution_count": null,
      "metadata": {
        "id": "15571db4"
      },
      "outputs": [],
      "source": [
        "vertex_df = vertices_df.dropDuplicates(['IATA'])"
      ],
      "id": "15571db4"
    },
    {
      "cell_type": "markdown",
      "metadata": {
        "id": "83d1dea8"
      },
      "source": [
        "### In the edges DataFrame:\n",
        "- Rename the <b>date</b> columns to become <b>tripid</b>.\n",
        "- Rename the <b>origin</b> columns to become <b>src</b>.\n",
        "- Rename the <b>destination</b> columns to become <b>dst</b>."
      ],
      "id": "83d1dea8"
    },
    {
      "cell_type": "code",
      "execution_count": null,
      "metadata": {
        "id": "5319e844"
      },
      "outputs": [],
      "source": [
        "from pyspark.sql.functions import col\n",
        "\n",
        "# Rename the date column to tripid\n",
        "edges_df = edges_df.withColumnRenamed('date', 'tripid')\n",
        "\n",
        "# Rename the origin column to src\n",
        "edges_df = edges_df.withColumnRenamed('origin', 'src')\n",
        "\n",
        "# Rename the destination column to dst\n",
        "edges_df = edges_df.withColumnRenamed('destination', 'dst')\n"
      ],
      "id": "5319e844"
    },
    {
      "cell_type": "markdown",
      "metadata": {
        "id": "260660dc"
      },
      "source": [
        "### In the Vertix DataFrame:\n",
        "- Rename the <b>IATA</b> columns to become <b>id</b>."
      ],
      "id": "260660dc"
    },
    {
      "cell_type": "code",
      "execution_count": null,
      "metadata": {
        "id": "42846969",
        "scrolled": false
      },
      "outputs": [],
      "source": [
        "# Rename the 'IATA' column to 'id'\n",
        "vertices_df = vertices_df.withColumnRenamed('IATA', 'id')"
      ],
      "id": "42846969"
    },
    {
      "cell_type": "markdown",
      "metadata": {
        "id": "4b50a1fe"
      },
      "source": [
        "### Create GraphFrame from Vertix and Edges DataFrames"
      ],
      "id": "4b50a1fe"
    },
    {
      "cell_type": "code",
      "execution_count": null,
      "metadata": {
        "id": "72be9d09"
      },
      "outputs": [],
      "source": [
        "from graphframes import GraphFrame\n",
        "\n",
        "spark = SparkSession.builder.appName('graph-example').getOrCreate()\n"
      ],
      "id": "72be9d09"
    },
    {
      "cell_type": "code",
      "execution_count": null,
      "metadata": {
        "id": "__cMhls0xh3x"
      },
      "outputs": [],
      "source": [
        "# vertices = vertex_df.selectExpr('id', 'city', 'state', 'country')\n",
        "\n",
        "# # Create edge DataFrame\n",
        "# edges = edges_df.selectExpr('tripid', 'src', 'dst', 'delay', 'distance')\n",
        "\n",
        "# Create GraphFrame\n",
        "graph = GraphFrame(vertices_df, edges_df)\n"
      ],
      "id": "__cMhls0xh3x"
    },
    {
      "cell_type": "markdown",
      "metadata": {
        "id": "abd2ebc6"
      },
      "source": [
        "### Determine the number of airports"
      ],
      "id": "abd2ebc6"
    },
    {
      "cell_type": "code",
      "execution_count": null,
      "metadata": {
        "colab": {
          "base_uri": "https://localhost:8080/"
        },
        "id": "f38688c9",
        "outputId": "b6d55681-4c79-41d1-d8a4-bcbd49abd82a"
      },
      "outputs": [
        {
          "output_type": "stream",
          "name": "stdout",
          "text": [
            "Number of airports: 526\n"
          ]
        }
      ],
      "source": [
        "num_airports = graph.vertices.count()\n",
        "print(\"Number of airports:\", num_airports)"
      ],
      "id": "f38688c9"
    },
    {
      "cell_type": "markdown",
      "metadata": {
        "id": "435187a8"
      },
      "source": [
        "### Determine the number of trips "
      ],
      "id": "435187a8"
    },
    {
      "cell_type": "code",
      "execution_count": null,
      "metadata": {
        "colab": {
          "base_uri": "https://localhost:8080/"
        },
        "id": "db2a507d",
        "outputId": "a8b0bb7b-b0c6-4cc5-bfea-744328864cfc"
      },
      "outputs": [
        {
          "output_type": "stream",
          "name": "stdout",
          "text": [
            "1391578\n"
          ]
        }
      ],
      "source": [
        "num_airports = graph.edges.count()\n",
        "print(num_airports)"
      ],
      "id": "db2a507d"
    },
    {
      "cell_type": "markdown",
      "metadata": {
        "id": "dec8731f"
      },
      "source": [
        "### What is the longest delay?"
      ],
      "id": "dec8731f"
    },
    {
      "cell_type": "code",
      "execution_count": null,
      "metadata": {
        "colab": {
          "base_uri": "https://localhost:8080/"
        },
        "id": "df3d6aac",
        "outputId": "9513b7fb-e587-4991-e82c-2c912fc2e072"
      },
      "outputs": [
        {
          "output_type": "stream",
          "name": "stdout",
          "text": [
            "The longest delay is: 1642 minutes\n"
          ]
        }
      ],
      "source": [
        "from pyspark.sql.functions import max\n",
        "longest_delay = edges_df.select(max(\"delay\")).collect()[0][0]\n",
        "print(\"The longest delay is:\", longest_delay, \"minutes\")"
      ],
      "id": "df3d6aac"
    },
    {
      "cell_type": "markdown",
      "metadata": {
        "id": "202d888c"
      },
      "source": [
        "### Find out the number of delayed flights vs. early flights (flights that departed before actual time)"
      ],
      "id": "202d888c"
    },
    {
      "cell_type": "code",
      "execution_count": null,
      "metadata": {
        "colab": {
          "base_uri": "https://localhost:8080/"
        },
        "id": "7cdd7ff7",
        "outputId": "2bc326b6-6317-492f-c124-ebd0da9c9ef6"
      },
      "outputs": [
        {
          "output_type": "stream",
          "name": "stdout",
          "text": [
            "+-------+------+\n",
            "| status| count|\n",
            "+-------+------+\n",
            "|on time|131122|\n",
            "|delayed|591727|\n",
            "|  early|668729|\n",
            "+-------+------+\n",
            "\n"
          ]
        }
      ],
      "source": [
        "from pyspark.sql.functions import when\n",
        "\n",
        "edges = graph.edges.withColumn(\"status\", when(graph.edges.delay > 0, \"delayed\").when(graph.edges.delay < 0, \"early\").otherwise(\"on time\"))\n",
        "edges.groupBy(\"status\").count().show()"
      ],
      "id": "7cdd7ff7"
    },
    {
      "cell_type": "markdown",
      "metadata": {
        "id": "30961bc3"
      },
      "source": [
        "### What flight destinations departing SFO are most likely to have significant delays? Select the top 10\n",
        "#### Hint: you should get the average delay for each destination for trips that depart from SFO only"
      ],
      "id": "30961bc3"
    },
    {
      "cell_type": "code",
      "execution_count": null,
      "metadata": {
        "colab": {
          "base_uri": "https://localhost:8080/"
        },
        "id": "afdc6842",
        "outputId": "70617416-8deb-4cdf-e540-a8c51a129a94"
      },
      "outputs": [
        {
          "output_type": "stream",
          "name": "stdout",
          "text": [
            "+---+------------------+\n",
            "|dst|         avg_delay|\n",
            "+---+------------------+\n",
            "|JAC| 30.78846153846154|\n",
            "|OKC|24.822222222222223|\n",
            "|SUN|22.696629213483146|\n",
            "|COS| 22.58888888888889|\n",
            "|SAT|             22.16|\n",
            "|STL|         20.203125|\n",
            "|HNL|19.982608695652175|\n",
            "|ASE|19.846153846153847|\n",
            "|CEC|19.089820359281436|\n",
            "|MDW|18.771929824561404|\n",
            "+---+------------------+\n",
            "\n"
          ]
        }
      ],
      "source": [
        "from pyspark.sql.functions import avg\n",
        "\n",
        "# filter the edges DataFrame by selecting only rows where src is SFO\n",
        "sfo_departures = edges.filter(edges['src'] == 'SFO')\n",
        "\n",
        "# group the resulting DataFrame by dst and calculate the mean delay for each group\n",
        "delay_by_dest = sfo_departures.groupBy('dst').agg(avg('delay').alias('avg_delay'))\n",
        "\n",
        "# sort the result by mean delay in descending order and select the top 10 destinations\n",
        "top_destinations = delay_by_dest.orderBy('avg_delay', ascending=False).limit(10)\n",
        "\n",
        "# show the result\n",
        "top_destinations.show()"
      ],
      "id": "afdc6842"
    },
    {
      "cell_type": "markdown",
      "metadata": {
        "id": "71d46665"
      },
      "source": [
        "### Find the Incoming connections to the airport sorted in Desc. order."
      ],
      "id": "71d46665"
    },
    {
      "cell_type": "code",
      "execution_count": null,
      "metadata": {
        "colab": {
          "base_uri": "https://localhost:8080/"
        },
        "id": "c28925c3",
        "outputId": "a483ab71-2cba-47d4-f982-845bf28862a7"
      },
      "outputs": [
        {
          "output_type": "stream",
          "name": "stdout",
          "text": [
            "+---+--------+\n",
            "| id|inDegree|\n",
            "+---+--------+\n",
            "|SFO|   38988|\n",
            "+---+--------+\n",
            "\n"
          ]
        }
      ],
      "source": [
        "from pyspark.sql.functions import desc\n",
        "\n",
        "airport = \"SFO\"\n",
        "incoming_connections = graph.inDegrees.filter(f\"id == '{airport}'\").sort(desc(\"inDegree\"))\n",
        "incoming_connections.show()"
      ],
      "id": "c28925c3"
    },
    {
      "cell_type": "markdown",
      "metadata": {
        "id": "d1b6509d"
      },
      "source": [
        "### Find the Outgoing connections from the airport sorted in Desc. order."
      ],
      "id": "d1b6509d"
    },
    {
      "cell_type": "code",
      "execution_count": null,
      "metadata": {
        "colab": {
          "base_uri": "https://localhost:8080/"
        },
        "id": "631af51d",
        "outputId": "98ad7532-d259-4445-85b0-2afa8e3ab39c"
      },
      "outputs": [
        {
          "output_type": "stream",
          "name": "stdout",
          "text": [
            "+---+---------+\n",
            "| id|outDegree|\n",
            "+---+---------+\n",
            "|ATL|    91484|\n",
            "|DFW|    68482|\n",
            "|ORD|    64228|\n",
            "|LAX|    54086|\n",
            "|DEN|    53148|\n",
            "|IAH|    43361|\n",
            "|PHX|    40155|\n",
            "|SFO|    39483|\n",
            "|LAS|    33107|\n",
            "|CLT|    28402|\n",
            "+---+---------+\n",
            "only showing top 10 rows\n",
            "\n"
          ]
        }
      ],
      "source": [
        "# Sort the DataFrame in descending order based on the outDegree column\n",
        "out_degrees = graph.outDegrees.sort(\"outDegree\", ascending=False)\n",
        "\n",
        "# Show the top 10 outgoing connections\n",
        "out_degrees.show(10)"
      ],
      "id": "631af51d"
    },
    {
      "cell_type": "markdown",
      "metadata": {
        "id": "fbec58ce"
      },
      "source": [
        "### Use motif finding to answer this question: which delays could we blame on SFO?\n",
        "#### Hint: this practically means that SFO is a transit station"
      ],
      "id": "fbec58ce"
    },
    {
      "cell_type": "code",
      "execution_count": null,
      "metadata": {
        "colab": {
          "base_uri": "https://localhost:8080/"
        },
        "id": "db17f3df",
        "outputId": "c5f1557f-aa7f-4c3a-830e-5e8ca7b85fe8"
      },
      "outputs": [
        {
          "output_type": "stream",
          "name": "stdout",
          "text": [
            "+--------------------+--------------------+--------------------+--------------------+--------------------+\n",
            "|                   a|                  e1|                   b|                  e2|                   c|\n",
            "+--------------------+--------------------+--------------------+--------------------+--------------------+\n",
            "|[Albuquerque, NM,...|[1010600, -7, 779...|[San Francisco, C...|[1011250, 55, 224...|[New York, NY, US...|\n",
            "|[Albuquerque, NM,...|[1010600, -7, 779...|[San Francisco, C...|[1011610, 134, 12...|[Dallas, TX, USA,...|\n",
            "|[Albuquerque, NM,...|[1010600, -7, 779...|[San Francisco, C...|[1012330, 32, 160...|[Chicago, IL, USA...|\n",
            "|[Albuquerque, NM,...|[1010600, -7, 779...|[San Francisco, C...|[1011330, 3, 1273...|[Dallas, TX, USA,...|\n",
            "|[Albuquerque, NM,...|[1010600, -7, 779...|[San Francisco, C...|[1011410, 124, 16...|[Chicago, IL, USA...|\n",
            "|[Albuquerque, NM,...|[1010600, -7, 779...|[San Francisco, C...|[1011250, 139, 29...|[Los Angeles, CA,...|\n",
            "|[Albuquerque, NM,...|[1010600, -7, 779...|[San Francisco, C...|[1022230, 133, 22...|[New York, NY, US...|\n",
            "|[Albuquerque, NM,...|[1010600, -7, 779...|[San Francisco, C...|[1021800, 113, 16...|[Chicago, IL, USA...|\n",
            "|[Albuquerque, NM,...|[1010600, -7, 779...|[San Francisco, C...|[1021740, 8, 293,...|[Los Angeles, CA,...|\n",
            "|[Albuquerque, NM,...|[1010600, -7, 779...|[San Francisco, C...|[1022110, 18, 224...|[Miami, FL, USA, ...|\n",
            "|[Albuquerque, NM,...|[1010600, -7, 779...|[San Francisco, C...|[1020755, 2, 1273...|[Dallas, TX, USA,...|\n",
            "|[Albuquerque, NM,...|[1010600, -7, 779...|[San Francisco, C...|[1020925, 9, 1604...|[Chicago, IL, USA...|\n",
            "|[Albuquerque, NM,...|[1010600, -7, 779...|[San Francisco, C...|[1022330, 326, 16...|[Chicago, IL, USA...|\n",
            "|[Albuquerque, NM,...|[1010600, -7, 779...|[San Francisco, C...|[1020650, 1, 1273...|[Dallas, TX, USA,...|\n",
            "|[Albuquerque, NM,...|[1010600, -7, 779...|[San Francisco, C...|[1021110, 34, 160...|[Chicago, IL, USA...|\n",
            "|[Albuquerque, NM,...|[1010600, -7, 779...|[San Francisco, C...|[1021425, 1, 1273...|[Dallas, TX, USA,...|\n",
            "|[Albuquerque, NM,...|[1010600, -7, 779...|[San Francisco, C...|[1021410, 190, 16...|[Chicago, IL, USA...|\n",
            "|[Albuquerque, NM,...|[1010600, -7, 779...|[San Francisco, C...|[1021445, 9, 293,...|[Los Angeles, CA,...|\n",
            "|[Albuquerque, NM,...|[1010600, -7, 779...|[San Francisco, C...|[1032230, 111, 22...|[New York, NY, US...|\n",
            "|[Albuquerque, NM,...|[1010600, -7, 779...|[San Francisco, C...|[1031610, 103, 12...|[Dallas, TX, USA,...|\n",
            "+--------------------+--------------------+--------------------+--------------------+--------------------+\n",
            "only showing top 20 rows\n",
            "\n"
          ]
        }
      ],
      "source": [
        "# from graphframes import motifs\n",
        "# pattern = motifs.Pattern.fromEdges(\"src\", \"dst\", \"src\")\n",
        "\n",
        "motifs = graph.find(\"(a)-[e1]->(b);(b)-[e2]->(c)\").filter(\"b.id = 'SFO'\").filter(\"e1.delay <=0 \").filter(\"e2.delay >0 \")\n",
        "motifs.show()"
      ],
      "id": "db17f3df"
    },
    {
      "cell_type": "markdown",
      "metadata": {
        "id": "cc1ece96"
      },
      "source": [
        "### Determine Airport Ranking in Desc. order using PageRank algorithm"
      ],
      "id": "cc1ece96"
    },
    {
      "cell_type": "code",
      "execution_count": null,
      "metadata": {
        "colab": {
          "base_uri": "https://localhost:8080/"
        },
        "id": "f754d545",
        "outputId": "0a1de252-cb2f-4ef9-a912-7df594cf3733"
      },
      "outputs": [
        {
          "output_type": "stream",
          "name": "stdout",
          "text": [
            "+-------------+-----+-------+---+-------------------+\n",
            "|         City|State|Country| id|           pagerank|\n",
            "+-------------+-----+-------+---+-------------------+\n",
            "|Rouyn-Noranda|   PQ| Canada|YUY|0.32912955224621604|\n",
            "|   Miles City|   MT|    USA|MLS|0.32912955224621604|\n",
            "|        Butte|   MT|    USA|BTM| 0.3815704636828766|\n",
            "|State College|   PA|    USA|SCE| 0.3728480692654548|\n",
            "|   Ogdensburg|   NY|    USA|OGS|0.32912955224621604|\n",
            "|     Appleton|   WI|    USA|ATW|0.47786740691068647|\n",
            "|     Waterloo|   IA|    USA|ALO| 0.3725878399974831|\n",
            "|   Huntington|   WV|    USA|HTS|0.32912955224621604|\n",
            "|    Pensacola|   FL|    USA|PNS| 0.8034356126664143|\n",
            "|    Vancouver|   BC| Canada|YVR|0.32912955224621604|\n",
            "|      Yakutat|   AK|    USA|YAK| 0.7511050233408701|\n",
            "|   Dillingham|   AK|    USA|DLG|0.32912955224621604|\n",
            "|Orange County|   CA|    USA|SNA|  2.510100989015544|\n",
            "|   Bar Harbor|   ME|    USA|BHB|0.32912955224621604|\n",
            "|Iron Mountain|   MI|    USA|IMT|0.34966814337233343|\n",
            "|      Medford|   OR|    USA|MFR| 0.5207511497185869|\n",
            "|        Tampa|   FL|    USA|TPA|  4.236048807620961|\n",
            "|      Abilene|   TX|    USA|ABI| 0.5046395020209747|\n",
            "|      Norfolk|   VA|    USA|ORF| 0.9962635985687013|\n",
            "|    North Bay|   ON| Canada|YYB|0.32912955224621604|\n",
            "+-------------+-----+-------+---+-------------------+\n",
            "only showing top 20 rows\n",
            "\n",
            "+-------+-----+--------+---+---+--------------------+\n",
            "| tripid|delay|distance|src|dst|              weight|\n",
            "+-------+-----+--------+---+---+--------------------+\n",
            "|1011450|   -4|    1451|MSY|LAX|9.730466089325679E-5|\n",
            "|1021445|    8|    1451|MSY|LAX|9.730466089325679E-5|\n",
            "|1020700|   -1|    1451|MSY|LAX|9.730466089325679E-5|\n",
            "|1021701|   15|    1451|MSY|LAX|9.730466089325679E-5|\n",
            "|1031445|   22|    1451|MSY|LAX|9.730466089325679E-5|\n",
            "|1030700|   -2|    1451|MSY|LAX|9.730466089325679E-5|\n",
            "|1031701|   33|    1451|MSY|LAX|9.730466089325679E-5|\n",
            "|1040700|   -4|    1451|MSY|LAX|9.730466089325679E-5|\n",
            "|1041701|    7|    1451|MSY|LAX|9.730466089325679E-5|\n",
            "|1051445|  480|    1451|MSY|LAX|9.730466089325679E-5|\n",
            "|1051701|   30|    1451|MSY|LAX|9.730466089325679E-5|\n",
            "|1050700|   -4|    1451|MSY|LAX|9.730466089325679E-5|\n",
            "|1071523|    1|    1451|MSY|LAX|9.730466089325679E-5|\n",
            "|1081523|    2|    1451|MSY|LAX|9.730466089325679E-5|\n",
            "|1091523|    7|    1451|MSY|LAX|9.730466089325679E-5|\n",
            "|1101523|   -2|    1451|MSY|LAX|9.730466089325679E-5|\n",
            "|1110731|   -4|    1451|MSY|LAX|9.730466089325679E-5|\n",
            "|1121732|   -6|    1451|MSY|LAX|9.730466089325679E-5|\n",
            "|1121523|   -2|    1451|MSY|LAX|9.730466089325679E-5|\n",
            "|1131732|   -9|    1451|MSY|LAX|9.730466089325679E-5|\n",
            "+-------+-----+--------+---+---+--------------------+\n",
            "only showing top 20 rows\n",
            "\n",
            "+--------------+-----+-------+---+------------------+\n",
            "|          City|State|Country| id|          pagerank|\n",
            "+--------------+-----+-------+---+------------------+\n",
            "|       Atlanta|   GA|    USA|ATL| 27.56698537736015|\n",
            "|        Dallas|   TX|    USA|DFW|19.920443138775934|\n",
            "|       Chicago|   IL|    USA|ORD|19.520004862975792|\n",
            "|        Denver|   CO|    USA|DEN|14.480081708686479|\n",
            "|   Los Angeles|   CA|    USA|LAX|13.348042929307379|\n",
            "|       Houston|   TX|    USA|IAH|11.684904182067894|\n",
            "| San Francisco|   CA|    USA|SFO|10.536220246352993|\n",
            "|       Phoenix|   AZ|    USA|PHX|  9.94331232433538|\n",
            "|Salt Lake City|   UT|    USA|SLC| 8.790784923145996|\n",
            "|     Las Vegas|   NV|    USA|LAS|  8.08821931674483|\n",
            "|       Seattle|   WA|    USA|SEA| 7.075432687383829|\n",
            "|       Orlando|   FL|    USA|MCO| 6.814624297060419|\n",
            "|     Charlotte|   NC|    USA|CLT| 6.810267338187121|\n",
            "|        Newark|   NJ|    USA|EWR| 6.742979168118522|\n",
            "|       Detroit|   MI|    USA|DTW| 6.452242478559098|\n",
            "|      New York|   NY|    USA|LGA| 6.445791806050212|\n",
            "|   Minneapolis|   MN|    USA|MSP| 6.421260136212866|\n",
            "|        Boston|   MA|    USA|BOS| 5.963289401836877|\n",
            "|     Baltimore|   MD|    USA|BWI| 5.433166893471824|\n",
            "|      New York|   NY|    USA|JFK| 5.403757640349041|\n",
            "+--------------+-----+-------+---+------------------+\n",
            "only showing top 20 rows\n",
            "\n",
            "+-------+-----+--------+---+---+--------------------+\n",
            "| tripid|delay|distance|src|dst|              weight|\n",
            "+-------+-----+--------+---+---+--------------------+\n",
            "|1111105|   -1|     246|GFK|MSP|  0.3333333333333333|\n",
            "|1111105|   -1|     246|GFK|MSP|  0.3333333333333333|\n",
            "|1030800|  -12|     246|GFK|MSP|  0.3333333333333333|\n",
            "|1111700|   -3|     246|GFK|MSP|  0.3333333333333333|\n",
            "|1111105|   -1|     246|GFK|MSP|  0.3333333333333333|\n",
            "|1030800|  -12|     246|GFK|MSP|  0.3333333333333333|\n",
            "|1111700|   -3|     246|GFK|MSP|  0.3333333333333333|\n",
            "|1111700|   -3|     246|GFK|MSP|  0.3333333333333333|\n",
            "|1030800|  -12|     246|GFK|MSP|  0.3333333333333333|\n",
            "|1050745|    0|     263|MQT|ORD|0.012987012987012988|\n",
            "|1120745|   47|     263|MQT|ORD|0.012987012987012988|\n",
            "|1210745|    1|     263|MQT|ORD|0.012987012987012988|\n",
            "|1090745|   92|     263|MQT|ORD|0.012987012987012988|\n",
            "|1160745|   -2|     263|MQT|ORD|0.012987012987012988|\n",
            "|1200745|   -5|     263|MQT|ORD|0.012987012987012988|\n",
            "|1080745|   -3|     263|MQT|ORD|0.012987012987012988|\n",
            "|1100745|  111|     263|MQT|ORD|0.012987012987012988|\n",
            "|1140745|   -6|     263|MQT|ORD|0.012987012987012988|\n",
            "|1150745|   56|     263|MQT|ORD|0.012987012987012988|\n",
            "|1170745|  180|     263|MQT|ORD|0.012987012987012988|\n",
            "+-------+-----+--------+---+---+--------------------+\n",
            "only showing top 20 rows\n",
            "\n",
            "+---+-------------------+\n",
            "| id|           pagerank|\n",
            "+---+-------------------+\n",
            "|CVN|0.32912955224621604|\n",
            "|LWB|0.32912955224621604|\n",
            "|ELD|0.32912955224621604|\n",
            "|IWD|0.32912955224621604|\n",
            "|MKL|0.32912955224621604|\n",
            "|AKN|0.32912955224621604|\n",
            "|YVR|0.32912955224621604|\n",
            "|YMM|0.32912955224621604|\n",
            "|LNS|0.32912955224621604|\n",
            "|UIN|0.32912955224621604|\n",
            "|TOP|0.32912955224621604|\n",
            "|HTS|0.32912955224621604|\n",
            "|BGM|0.32912955224621604|\n",
            "|YUY|0.32912955224621604|\n",
            "|BHB|0.32912955224621604|\n",
            "|OGS|0.32912955224621604|\n",
            "|DLG|0.32912955224621604|\n",
            "|MLS|0.32912955224621604|\n",
            "|YXJ|0.32912955224621604|\n",
            "|YYB|0.32912955224621604|\n",
            "+---+-------------------+\n",
            "only showing top 20 rows\n",
            "\n",
            "+---+---+--------------------+\n",
            "|src|dst|              weight|\n",
            "+---+---+--------------------+\n",
            "|ATL|LEX|1.109373093264995...|\n",
            "|ATL|LEX|1.109373093264995...|\n",
            "|ATL|LEX|1.109373093264995...|\n",
            "|ATL|LEX|1.109373093264995...|\n",
            "|ATL|LEX|1.109373093264995...|\n",
            "|ATL|LEX|1.109373093264995...|\n",
            "|ATL|LEX|1.109373093264995...|\n",
            "|ATL|LEX|1.109373093264995...|\n",
            "|ATL|LEX|1.109373093264995...|\n",
            "|ATL|LEX|1.109373093264995...|\n",
            "|ATL|LEX|1.109373093264995...|\n",
            "|ATL|LEX|1.109373093264995...|\n",
            "|ATL|LEX|1.109373093264995...|\n",
            "|ATL|LEX|1.109373093264995...|\n",
            "|ATL|LEX|1.109373093264995...|\n",
            "|ATL|LEX|1.109373093264995...|\n",
            "|ATL|LEX|1.109373093264995...|\n",
            "|ATL|LEX|1.109373093264995...|\n",
            "|ATL|LEX|1.109373093264995...|\n",
            "|ATL|LEX|1.109373093264995...|\n",
            "+---+---+--------------------+\n",
            "only showing top 20 rows\n",
            "\n"
          ]
        }
      ],
      "source": [
        "# Run PageRank until convergence to tolerance \"tol\".\n",
        "results =  graph.pageRank(resetProbability=0.15, tol=0.01)\n",
        "results.vertices.show()\n",
        "results.edges.show()\n",
        "\n",
        "\n",
        "results.vertices.orderBy('pagerank',ascending=False).show()\n",
        "results.edges.orderBy('weight',ascending=False).show()\n",
        "\n",
        "\n",
        "results.vertices.select(\"id\", \"pagerank\").orderBy('pagerank').show()\n",
        "results.edges.select(\"src\", \"dst\", \"weight\").orderBy('weight').show()\n"
      ],
      "id": "f754d545"
    },
    {
      "cell_type": "markdown",
      "metadata": {
        "id": "fe1e7648"
      },
      "source": [
        "## Determine the most popular flights (single city hops)"
      ],
      "id": "fe1e7648"
    },
    {
      "cell_type": "code",
      "execution_count": null,
      "metadata": {
        "colab": {
          "base_uri": "https://localhost:8080/"
        },
        "id": "da4b3306",
        "outputId": "e4d64f91-bc68-41b0-9489-259f6e700bf9"
      },
      "outputs": [
        {
          "name": "stdout",
          "output_type": "stream",
          "text": [
            "+---+---+-----------+\n",
            "|src|dst|Occurrences|\n",
            "+---+---+-----------+\n",
            "|IAD|DCA|          1|\n",
            "+---+---+-----------+\n",
            "\n"
          ]
        }
      ],
      "source": [
        "from graphframes import *\n",
        "from pyspark.sql.functions import col\n",
        "\n",
        "single_city_hops = graph.find(\"(src)-[flight]->(dst)\")\\\n",
        "                    .filter(\"src.City == dst.City\")\n",
        "\n",
        "single_city_hops.show(10)"
      ],
      "id": "da4b3306"
    },
    {
      "cell_type": "markdown",
      "metadata": {
        "id": "8ebb5e18"
      },
      "source": [
        "### Find and Save a Subragph that obtained from the following pattern:\n",
        "#### The flight starts from an airport and return back to the same airport through 2 other airports."
      ],
      "id": "8ebb5e18"
    },
    {
      "cell_type": "code",
      "source": [
        "subgraph = graph.dropIsolatedVertices()\n",
        "subgraph = graph.find(\"(a)-[]->(b); (b)-[]->(c); (c)-[]->(a)\")\n",
        "g = GraphFrame(subgraph.toPandas().rename(columns=lambda x: x.split(\".\")[1]), subgraph.toPandas().rename(columns=lambda x: x.split(\".\")[1]))\n",
        "g.vertices.write.parquet(\"vertices\",mode='overwrite')\n",
        "g.edges.write.parquet(\"edges\",mode='overwrite')"
      ],
      "metadata": {
        "id": "zM-FAXU5Aqfk"
      },
      "id": "zM-FAXU5Aqfk",
      "execution_count": null,
      "outputs": []
    }
  ],
  "metadata": {
    "colab": {
      "provenance": [],
      "include_colab_link": true
    },
    "kernelspec": {
      "display_name": "Python 3 (ipykernel)",
      "language": "python",
      "name": "python3"
    },
    "language_info": {
      "codemirror_mode": {
        "name": "ipython",
        "version": 3
      },
      "file_extension": ".py",
      "mimetype": "text/x-python",
      "name": "python",
      "nbconvert_exporter": "python",
      "pygments_lexer": "ipython3",
      "version": "3.9.12"
    }
  },
  "nbformat": 4,
  "nbformat_minor": 5
}