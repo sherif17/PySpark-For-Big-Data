{
  "cells": [
    {
      "cell_type": "markdown",
      "metadata": {
        "id": "view-in-github",
        "colab_type": "text"
      },
      "source": [
        "<a href=\"https://colab.research.google.com/github/sherif17/PySpark-For-Big-Data/blob/main/DF_SQL_ML_Pyspark.ipynb\" target=\"_parent\"><img src=\"https://colab.research.google.com/assets/colab-badge.svg\" alt=\"Open In Colab\"/></a>"
      ]
    },
    {
      "cell_type": "markdown",
      "id": "05f1e8db",
      "metadata": {
        "id": "05f1e8db"
      },
      "source": [
        "# **Labs 1 and 2 PySpark:**\n",
        "\n",
        "In these labs we will be using the \"[[NeurIPS 2020] Data Science for COVID-19 (DS4C)](https://www.kaggle.com/datasets/kimjihoo/coronavirusdataset?select=PatientInfo.csv)\" dataset, retrieved from [Kaggle](https://www.kaggle.com/) on 1/6/2022, for educational non commercial purpose, License\n",
        "[CC BY-NC-SA 4.0\n",
        "](https://creativecommons.org/licenses/by-nc-sa/4.0/)\n",
        "\n",
        "\n",
        "The csv file that we will be using in this lab is **PatientInfo**."
      ]
    },
    {
      "cell_type": "markdown",
      "id": "3ac9bbf0",
      "metadata": {
        "id": "3ac9bbf0"
      },
      "source": [
        "## PatientInfo.csv\n",
        "\n",
        "**patient_id**\n",
        "the ID of the patient\n",
        "\n",
        "**sex**\n",
        "the sex of the patient\n",
        "\n",
        "**age**\n",
        "the age of the patient\n",
        "\n",
        "**country**\n",
        "the country of the patient\n",
        "\n",
        "**province**\n",
        "the province of the patient\n",
        "\n",
        "**city**\n",
        "the city of the patient\n",
        "\n",
        "**infection_case**\n",
        "the case of infection\n",
        "\n",
        "**infected_by**\n",
        "the ID of who infected the patient\n",
        "\n",
        "\n",
        "**contact_number**\n",
        "the number of contacts with people\n",
        "\n",
        "**symptom_onset_date**\n",
        "the date of symptom onset\n",
        "\n",
        "**confirmed_date**\n",
        "the date of being confirmed\n",
        "\n",
        "**released_date**\n",
        "the date of being released\n",
        "\n",
        "**deceased_date**\n",
        "the date of being deceased\n",
        "\n",
        "**state**\n",
        "isolated / released / deceased"
      ]
    },
    {
      "cell_type": "markdown",
      "id": "34b6f619",
      "metadata": {
        "id": "34b6f619"
      },
      "source": [
        "### Import the pyspark and check it's version"
      ]
    },
    {
      "cell_type": "code",
      "execution_count": null,
      "id": "29fe2ddc",
      "metadata": {
        "id": "29fe2ddc"
      },
      "outputs": [],
      "source": []
    },
    {
      "cell_type": "markdown",
      "id": "70c0fc8e",
      "metadata": {
        "id": "70c0fc8e"
      },
      "source": [
        "### Import and create SparkSession"
      ]
    },
    {
      "cell_type": "code",
      "execution_count": null,
      "id": "94904228",
      "metadata": {
        "id": "94904228"
      },
      "outputs": [],
      "source": []
    },
    {
      "cell_type": "markdown",
      "id": "7356d68d",
      "metadata": {
        "id": "7356d68d"
      },
      "source": [
        "### Load the PatientInfo.csv file and show the first 5 rows"
      ]
    },
    {
      "cell_type": "code",
      "execution_count": null,
      "id": "d5185728",
      "metadata": {
        "id": "d5185728"
      },
      "outputs": [],
      "source": [
        "from IPython.display import display, HTML\n",
        "display(HTML(\"<style>pre { white-space: pre !important; }</style>\"))"
      ]
    },
    {
      "cell_type": "code",
      "execution_count": null,
      "id": "2196bca5",
      "metadata": {
        "id": "2196bca5"
      },
      "outputs": [],
      "source": []
    },
    {
      "cell_type": "markdown",
      "id": "4d43bdca",
      "metadata": {
        "id": "4d43bdca"
      },
      "source": [
        "### Display the schema of the dataset"
      ]
    },
    {
      "cell_type": "code",
      "execution_count": null,
      "id": "c51a2507",
      "metadata": {
        "id": "c51a2507"
      },
      "outputs": [],
      "source": []
    },
    {
      "cell_type": "markdown",
      "id": "3114e1dd",
      "metadata": {
        "id": "3114e1dd"
      },
      "source": [
        "### Display the statistical summary"
      ]
    },
    {
      "cell_type": "code",
      "execution_count": null,
      "id": "18d63947",
      "metadata": {
        "id": "18d63947"
      },
      "outputs": [],
      "source": []
    },
    {
      "cell_type": "markdown",
      "id": "c78859b9",
      "metadata": {
        "id": "c78859b9"
      },
      "source": [
        "### Using the state column.\n",
        "### How many people survived (released), and how many didn't survive (isolated/deceased)?"
      ]
    },
    {
      "cell_type": "code",
      "execution_count": null,
      "id": "63e84045",
      "metadata": {
        "id": "63e84045"
      },
      "outputs": [],
      "source": []
    },
    {
      "cell_type": "markdown",
      "id": "59c16346",
      "metadata": {
        "id": "59c16346"
      },
      "source": [
        "### Display the number of null values in each column"
      ]
    },
    {
      "cell_type": "code",
      "execution_count": null,
      "id": "4adc0ab6",
      "metadata": {
        "id": "4adc0ab6"
      },
      "outputs": [],
      "source": []
    },
    {
      "cell_type": "markdown",
      "id": "c3133f5a",
      "metadata": {
        "id": "c3133f5a"
      },
      "source": [
        "## Data preprocessing"
      ]
    },
    {
      "cell_type": "markdown",
      "id": "ec32fa0c",
      "metadata": {
        "id": "ec32fa0c"
      },
      "source": [
        "### Fill the nulls in the deceased_date with the released_date. \n",
        "- You can use <b>coalesce</b> function"
      ]
    },
    {
      "cell_type": "code",
      "execution_count": null,
      "id": "d5ba64f9",
      "metadata": {
        "id": "d5ba64f9"
      },
      "outputs": [],
      "source": []
    },
    {
      "cell_type": "markdown",
      "id": "4ec324f5",
      "metadata": {
        "id": "4ec324f5"
      },
      "source": [
        "### Add a column named no_days which is difference between the deceased_date and the confirmed_date then show the top 5 rows. Print the schema.\n",
        "- <b> Hint: You need to typecast these columns as date first <b>"
      ]
    },
    {
      "cell_type": "code",
      "execution_count": null,
      "id": "d065e472",
      "metadata": {
        "id": "d065e472"
      },
      "outputs": [],
      "source": []
    },
    {
      "cell_type": "markdown",
      "id": "967b2466",
      "metadata": {
        "id": "967b2466"
      },
      "source": [
        "### Add a is_male column if male then it should yield true, else then False"
      ]
    },
    {
      "cell_type": "code",
      "execution_count": null,
      "id": "8efe03b5",
      "metadata": {
        "id": "8efe03b5"
      },
      "outputs": [],
      "source": []
    },
    {
      "cell_type": "markdown",
      "id": "8603d7c0",
      "metadata": {
        "id": "8603d7c0"
      },
      "source": [
        "### Add a is_dead column if patient state is not released then it should yield true, else then False\n",
        "\n",
        "- Use <b>UDF</b> to perform this task. \n",
        "- However, UDF is not recommended there is no built in function can do the required operation.\n",
        "- UDF is slower than built in functions."
      ]
    },
    {
      "cell_type": "code",
      "execution_count": null,
      "id": "d3343075",
      "metadata": {
        "id": "d3343075"
      },
      "outputs": [],
      "source": []
    },
    {
      "cell_type": "markdown",
      "id": "e15264a9",
      "metadata": {
        "id": "e15264a9"
      },
      "source": [
        "### Change the ages to bins from 10s, 0s, 10s, 20s,.etc to 0,10, 20"
      ]
    },
    {
      "cell_type": "code",
      "execution_count": null,
      "id": "7a2b57ed",
      "metadata": {
        "id": "7a2b57ed"
      },
      "outputs": [],
      "source": []
    },
    {
      "cell_type": "markdown",
      "id": "43cdf846",
      "metadata": {
        "id": "43cdf846"
      },
      "source": [
        "### Change age, and no_days  to be typecasted as Double"
      ]
    },
    {
      "cell_type": "code",
      "execution_count": null,
      "id": "dfea7fcb",
      "metadata": {
        "id": "dfea7fcb"
      },
      "outputs": [],
      "source": []
    },
    {
      "cell_type": "markdown",
      "id": "d31e3a87",
      "metadata": {
        "id": "d31e3a87"
      },
      "source": [
        "### Drop the columns\n",
        "[\"patient_id\",\"sex\",\"infected_by\",\"contact_number\",\"released_date\",\"state\",\n",
        "\"symptom_onset_date\",\"confirmed_date\",\"deceased_date\",\"country\",\"no_days\",\n",
        "\"city\",\"infection_case\"]"
      ]
    },
    {
      "cell_type": "code",
      "execution_count": null,
      "id": "3ae0c428",
      "metadata": {
        "id": "3ae0c428"
      },
      "outputs": [],
      "source": []
    },
    {
      "cell_type": "markdown",
      "id": "32df47a6",
      "metadata": {
        "id": "32df47a6"
      },
      "source": [
        "### Recount the number of nulls now"
      ]
    },
    {
      "cell_type": "code",
      "execution_count": null,
      "id": "6d66eaa7",
      "metadata": {
        "id": "6d66eaa7"
      },
      "outputs": [],
      "source": []
    },
    {
      "cell_type": "markdown",
      "id": "cc71f158",
      "metadata": {
        "id": "cc71f158"
      },
      "source": [
        "## Now do the same but using SQL select statement"
      ]
    },
    {
      "cell_type": "markdown",
      "id": "1d540282",
      "metadata": {
        "id": "1d540282"
      },
      "source": [
        "### From the original Patient DataFrame, Create a temporary view (table)."
      ]
    },
    {
      "cell_type": "code",
      "execution_count": null,
      "id": "cf56099f",
      "metadata": {
        "id": "cf56099f"
      },
      "outputs": [],
      "source": []
    },
    {
      "cell_type": "markdown",
      "id": "cb004277",
      "metadata": {
        "id": "cb004277"
      },
      "source": [
        "### Use SELECT statement to select all columns from the dataframe and show the output."
      ]
    },
    {
      "cell_type": "code",
      "execution_count": null,
      "id": "12ae8226",
      "metadata": {
        "scrolled": false,
        "id": "12ae8226"
      },
      "outputs": [],
      "source": []
    },
    {
      "cell_type": "markdown",
      "id": "e0da4318",
      "metadata": {
        "id": "e0da4318"
      },
      "source": [
        "### *Using SQL commands*, limit the output to only 5 rows "
      ]
    },
    {
      "cell_type": "code",
      "execution_count": null,
      "id": "97911bdd",
      "metadata": {
        "id": "97911bdd"
      },
      "outputs": [],
      "source": []
    },
    {
      "cell_type": "markdown",
      "id": "b70edf17",
      "metadata": {
        "id": "b70edf17"
      },
      "source": [
        "### Select the count of males and females in the dataset"
      ]
    },
    {
      "cell_type": "code",
      "execution_count": null,
      "id": "00e9fd65",
      "metadata": {
        "id": "00e9fd65"
      },
      "outputs": [],
      "source": []
    },
    {
      "cell_type": "markdown",
      "id": "73683674",
      "metadata": {
        "id": "73683674"
      },
      "source": [
        "### How many people did survive, and how many didn't?"
      ]
    },
    {
      "cell_type": "code",
      "execution_count": null,
      "id": "1e5a3908",
      "metadata": {
        "id": "1e5a3908"
      },
      "outputs": [],
      "source": []
    },
    {
      "cell_type": "markdown",
      "id": "d4424228",
      "metadata": {
        "id": "d4424228"
      },
      "source": [
        "### Now, let's perform some preprocessing using SQL:\n",
        "1. Convert *age* column to double after removing the 's' at the end -- *hint: check SUBSTRING method*\n",
        "2. Select only the following columns: `['sex', 'age', 'province', 'state']`\n",
        "3. Store the result of the query in a new dataframe"
      ]
    },
    {
      "cell_type": "code",
      "execution_count": null,
      "id": "16994e4d",
      "metadata": {
        "id": "16994e4d"
      },
      "outputs": [],
      "source": []
    },
    {
      "cell_type": "code",
      "execution_count": null,
      "id": "d3cf4f0f",
      "metadata": {
        "scrolled": true,
        "id": "d3cf4f0f"
      },
      "outputs": [],
      "source": []
    },
    {
      "cell_type": "code",
      "execution_count": null,
      "id": "791ec1b8",
      "metadata": {
        "id": "791ec1b8"
      },
      "outputs": [],
      "source": []
    },
    {
      "cell_type": "code",
      "execution_count": null,
      "id": "61c70bc8",
      "metadata": {
        "id": "61c70bc8"
      },
      "outputs": [],
      "source": []
    },
    {
      "cell_type": "markdown",
      "id": "d4a24c24",
      "metadata": {
        "id": "d4a24c24"
      },
      "source": [
        "## Machine Learning \n",
        "### Create a pipeline model to predict is_dead and evaluate the performance.\n",
        "- Use <b>StringIndexer</b> to transform <b>string</b> data type to indices.\n",
        "- Use <b>OneHotEncoder</b> to deal with categorical values.\n",
        "- Use <b>Imputer</b> to fill missing data with mean."
      ]
    },
    {
      "cell_type": "code",
      "execution_count": null,
      "id": "7a71806f",
      "metadata": {
        "id": "7a71806f"
      },
      "outputs": [],
      "source": []
    }
  ],
  "metadata": {
    "kernelspec": {
      "display_name": "Python 3 (ipykernel)",
      "language": "python",
      "name": "python3"
    },
    "language_info": {
      "codemirror_mode": {
        "name": "ipython",
        "version": 3
      },
      "file_extension": ".py",
      "mimetype": "text/x-python",
      "name": "python",
      "nbconvert_exporter": "python",
      "pygments_lexer": "ipython3",
      "version": "3.9.13"
    },
    "colab": {
      "provenance": [],
      "include_colab_link": true
    }
  },
  "nbformat": 4,
  "nbformat_minor": 5
}